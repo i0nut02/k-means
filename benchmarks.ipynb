{
 "cells": [
  {
   "cell_type": "markdown",
   "metadata": {},
   "source": [
    "# Kmeans Results"
   ]
  },
  {
   "cell_type": "markdown",
   "metadata": {},
   "source": [
    "#### Extract computation time from different computational models"
   ]
  },
  {
   "cell_type": "code",
   "execution_count": null,
   "metadata": {},
   "outputs": [
    {
     "name": "stdout",
     "output_type": "stream",
     "text": [
      "             model    input_file  execution_time\n",
      "0       sequential  input_file_1        2.185431\n",
      "1       sequential  input_file_1        4.778214\n",
      "2       sequential  input_file_1        3.793973\n",
      "3       sequential  input_file_1        3.193963\n",
      "4       sequential  input_file_1        1.202084\n",
      "5       sequential  input_file_1        1.201975\n",
      "6       sequential  input_file_1        0.761376\n",
      "7       sequential  input_file_1        4.397793\n",
      "8       sequential  input_file_1        3.205018\n",
      "9       sequential  input_file_1        3.686327\n",
      "10            cuda  input_file_1        0.592630\n",
      "11            cuda  input_file_1        4.864594\n",
      "12            cuda  input_file_1        4.245992\n",
      "13            cuda  input_file_1        1.455526\n",
      "14            cuda  input_file_1        1.318212\n",
      "15            cuda  input_file_1        1.325320\n",
      "16            cuda  input_file_1        1.869090\n",
      "17            cuda  input_file_1        2.861404\n",
      "18            cuda  input_file_1        2.443753\n",
      "19            cuda  input_file_1        1.810531\n",
      "20          cudaV2  input_file_1        3.253338\n",
      "21          cudaV2  input_file_1        1.127722\n",
      "22          cudaV2  input_file_1        1.814651\n",
      "23          cudaV2  input_file_1        2.148628\n",
      "24          cudaV2  input_file_1        2.552315\n",
      "25          cudaV2  input_file_1        4.033292\n",
      "26          cudaV2  input_file_1        1.398532\n",
      "27          cudaV2  input_file_1        2.814055\n",
      "28          cudaV2  input_file_1        3.165866\n",
      "29          cudaV2  input_file_1        0.709027\n",
      "30  mpi_openmp_2_2  input_file_1        3.233952\n",
      "31  mpi_openmp_2_2  input_file_1        1.267359\n",
      "32  mpi_openmp_2_2  input_file_1        0.792732\n",
      "33  mpi_openmp_2_2  input_file_1        4.769985\n",
      "34  mpi_openmp_2_2  input_file_1        4.845344\n",
      "35  mpi_openmp_2_2  input_file_1        4.137788\n",
      "36  mpi_openmp_2_2  input_file_1        1.870762\n",
      "37  mpi_openmp_2_2  input_file_1        0.939525\n",
      "38  mpi_openmp_2_2  input_file_1        3.579049\n",
      "39  mpi_openmp_2_2  input_file_1        2.480686\n"
     ]
    }
   ],
   "source": [
    "import pandas as pd\n",
    "import numpy as np\n",
    "\n",
    "# Example random data (same as the one you wanted to generate)\n",
    "input_files = [\"input_file_1\", \"input_file_2\", \"input_file_3\"]\n",
    "models = [\"sequential\", \"cuda\", \"cudaV2\", \"mpi_openmp_2_2\"]\n",
    "\n",
    "# Initialize an empty list to store the random data\n",
    "plot_data = []\n",
    "\n",
    "# Create random data for execution times (in seconds)\n",
    "np.random.seed(42)  # For reproducibility\n",
    "\n",
    "for input_file in input_files:\n",
    "    for model in models:\n",
    "        # Generate random execution times for each model and input file\n",
    "        num_samples = 10  # Number of samples per model and input file\n",
    "        execution_times = np.random.uniform(0.5, 5.0, num_samples)  # Random times between 0.5 and 5 seconds\n",
    "        \n",
    "        # Add the data for each sample\n",
    "        for exec_time in execution_times:\n",
    "            plot_data.append({\n",
    "                \"model\": model,\n",
    "                \"input_file\": input_file,\n",
    "                \"execution_time\": exec_time\n",
    "            })\n",
    "\n",
    "# Create a DataFrame from the random data\n",
    "results_df = pd.DataFrame(plot_data)\n",
    "\n",
    "# Display the first few rows of the DataFrame\n",
    "print(results_df.head())"
   ]
  },
  {
   "cell_type": "markdown",
   "metadata": {},
   "source": [
    "### Plot computational time with respect to sequential model for each other model"
   ]
  },
  {
   "cell_type": "code",
   "execution_count": 28,
   "metadata": {},
   "outputs": [
    {
     "data": {
      "text/html": [
       "<div>\n",
       "<style scoped>\n",
       "    .dataframe tbody tr th:only-of-type {\n",
       "        vertical-align: middle;\n",
       "    }\n",
       "\n",
       "    .dataframe tbody tr th {\n",
       "        vertical-align: top;\n",
       "    }\n",
       "\n",
       "    .dataframe thead th {\n",
       "        text-align: right;\n",
       "    }\n",
       "</style>\n",
       "<table border=\"1\" class=\"dataframe\">\n",
       "  <thead>\n",
       "    <tr style=\"text-align: right;\">\n",
       "      <th></th>\n",
       "    </tr>\n",
       "  </thead>\n",
       "  <tbody>\n",
       "  </tbody>\n",
       "</table>\n",
       "</div>"
      ],
      "text/plain": [
       "Empty DataFrame\n",
       "Columns: []\n",
       "Index: []"
      ]
     },
     "execution_count": 28,
     "metadata": {},
     "output_type": "execute_result"
    }
   ],
   "source": [
    "import os\n",
    "import pandas as pd\n",
    "\n",
    "RESULTS_DIR = \"./results\"  # Directory containing your results\n",
    "\n",
    "# A function to extract time data from a given file\n",
    "def extract_times_from_file(file_path):\n",
    "    time = -1\n",
    "    with open(file_path, 'r') as f:\n",
    "        for line in f:\n",
    "            if line.startswith(\"Computation:\"):\n",
    "                time = (float(line.split(\" \")[-2].strip()))\n",
    "                break\n",
    "    return time\n",
    "\n",
    "# Loop over the results folder and extract data from .out files\n",
    "def load_results():\n",
    "    data = []\n",
    "    for model in os.listdir(RESULTS_DIR): # sequential, cuda, ecc..\n",
    "        model_folder = os.path.join(RESULTS_DIR, model)\n",
    "\n",
    "        if not os.path.isdir(model_folder):\n",
    "            continue\n",
    "\n",
    "        for input_file in os.listdir(model_folder): # results/model/input100D.inp_clusters_x/\n",
    "            input_file_folder = os.path.join(model_folder, input_file)\n",
    "\n",
    "            if not os.path.isdir(input_file_folder):\n",
    "                continue\n",
    "\n",
    "            for iteration_file in os.listdir(input_file_folder): # results/model/input100D.inp_clusters_x/i.out/log\n",
    "                if iteration_file.endswith(\".log\"):\n",
    "                    file_path = os.path.join(input_file_folder, iteration_file)\n",
    "                    time = extract_times_from_file(file_path)\n",
    "                    data.append({\n",
    "                        'model': model,\n",
    "                        'input_file': input_file,\n",
    "                        'time': time\n",
    "                    })\n",
    "    return pd.DataFrame(data)\n",
    "\n",
    "results_df = load_results()\n",
    "results_df.head()"
   ]
  },
  {
   "cell_type": "markdown",
   "metadata": {},
   "source": [
    "### Computational time of models per input file"
   ]
  },
  {
   "cell_type": "code",
   "execution_count": 34,
   "metadata": {},
   "outputs": [
    {
     "name": "stderr",
     "output_type": "stream",
     "text": [
      "/var/folders/lv/jlxzlzp13vn46h23m60bldl80000gn/T/ipykernel_21145/3756522418.py:17: FutureWarning:\n",
      "\n",
      "\n",
      "\n",
      "Passing `palette` without assigning `hue` is deprecated and will be removed in v0.14.0. Assign the `x` variable to `hue` and set `legend=False` for the same effect.\n",
      "\n",
      "\n"
     ]
    },
    {
     "data": {
      "image/png": "[encoded data removed]",
      "text/plain": [
       "<Figure size 600x600 with 1 Axes>"
      ]
     },
     "metadata": {},
     "output_type": "display_data"
    },
    {
     "name": "stderr",
     "output_type": "stream",
     "text": [
      "/var/folders/lv/jlxzlzp13vn46h23m60bldl80000gn/T/ipykernel_21145/3756522418.py:17: FutureWarning:\n",
      "\n",
      "\n",
      "\n",
      "Passing `palette` without assigning `hue` is deprecated and will be removed in v0.14.0. Assign the `x` variable to `hue` and set `legend=False` for the same effect.\n",
      "\n",
      "\n"
     ]
    },
    {
     "data": {
      "image/png": "[encoded data removed]",
      "text/plain": [
       "<Figure size 600x600 with 1 Axes>"
      ]
     },
     "metadata": {},
     "output_type": "display_data"
    },
    {
     "name": "stderr",
     "output_type": "stream",
     "text": [
      "/var/folders/lv/jlxzlzp13vn46h23m60bldl80000gn/T/ipykernel_21145/3756522418.py:17: FutureWarning:\n",
      "\n",
      "\n",
      "\n",
      "Passing `palette` without assigning `hue` is deprecated and will be removed in v0.14.0. Assign the `x` variable to `hue` and set `legend=False` for the same effect.\n",
      "\n",
      "\n"
     ]
    },
    {
     "data": {
      "image/png": "[encoded data removed]",
      "text/plain": [
       "<Figure size 600x600 with 1 Axes>"
      ]
     },
     "metadata": {},
     "output_type": "display_data"
    }
   ],
   "source": [
    "import seaborn as sns\n",
    "import matplotlib.pyplot as plt\n",
    "\n",
    "# Assuming result_df is already created with random data as shown earlier\n",
    "\n",
    "# List of input files\n",
    "input_files = result_df[\"input_file\"].unique()\n",
    "\n",
    "# Plotting each input file separately\n",
    "for input_file in input_files:\n",
    "    plt.figure(figsize=(6, 6))\n",
    "    \n",
    "    # Filter data for the current input file\n",
    "    filtered_data = result_df[result_df[\"input_file\"] == input_file]\n",
    "\n",
    "    # Create a boxplot using Seaborn\n",
    "    sns.boxplot(data=filtered_data, x=\"model\", y=\"execution_time\", palette=\"Set2\")\n",
    "    \n",
    "    # Add labels and title\n",
    "    plt.xlabel(\"Model\")\n",
    "    plt.ylabel(\"Execution Time (seconds)\")\n",
    "    plt.title(f\"Execution Time Distribution for {input_file}\")\n",
    "    \n",
    "    # Show the plot\n",
    "    plt.tight_layout()\n",
    "    plt.show()\n"
   ]
  },
  {
   "cell_type": "markdown",
   "metadata": {},
   "source": [
    "### Speedups with respect to Sequential model"
   ]
  },
  {
   "cell_type": "code",
   "execution_count": 35,
   "metadata": {},
   "outputs": [
    {
     "name": "stdout",
     "output_type": "stream",
     "text": [
      "Speedup of Models Relative to Sequential Model:\n",
      "+------------+--------------------+--------------------+--------------------+\n",
      "|   model    |    input_file_1    |    input_file_2    |    input_file_3    |\n",
      "+------------+--------------------+--------------------+--------------------+\n",
      "|    cuda    | 1.7539890386493397 | 1.203156662401149  | 1.6708671443409033 |\n",
      "|   cudaV2   | 1.6040921795340544 | 1.1992688848759228 | 1.7414296288586493 |\n",
      "| mpi_openmp | 1.5052002454192606 | 1.5209652687286532 | 1.1160386429590063 |\n",
      "+------------+--------------------+--------------------+--------------------+\n"
     ]
    }
   ],
   "source": [
    "import pandas as pd\n",
    "from tabulate import tabulate\n",
    "\n",
    "# Filter out data for sequential and other models\n",
    "sequential_data = result_df[result_df[\"model\"] == \"sequential\"]\n",
    "\n",
    "# Initialize an empty list to store speedup data\n",
    "speedup_data = []\n",
    "\n",
    "# Loop over all models excluding sequential\n",
    "models_to_compare = result_df[\"model\"].unique()\n",
    "models_to_compare = [model for model in models_to_compare if model != \"sequential\"]\n",
    "\n",
    "# Calculate speedup for each model relative to sequential\n",
    "for model in models_to_compare:\n",
    "    # Filter data for the current model\n",
    "    model_data = result_df[result_df[\"model\"] == model]\n",
    "    \n",
    "    # Merge the sequential data with the current model data based on input file\n",
    "    merged_data = pd.merge(sequential_data, model_data, on=[\"input_file\"], suffixes=(\"_seq\", \"_model\"))\n",
    "    \n",
    "    # Calculate speedup\n",
    "    merged_data[\"speedup\"] = merged_data[\"execution_time_seq\"] / merged_data[\"execution_time_model\"]\n",
    "    \n",
    "    # Add the model and speedup data to the list\n",
    "    for input_file in merged_data[\"input_file\"].unique():\n",
    "        speedup_data.append({\n",
    "            \"input_file\": input_file,\n",
    "            \"model\": model,\n",
    "            \"speedup\": merged_data[merged_data[\"input_file\"] == input_file][\"speedup\"].mean()  # Take the mean speedup for each input file\n",
    "        })\n",
    "\n",
    "# Create a DataFrame from the speedup data\n",
    "speedup_df = pd.DataFrame(speedup_data)\n",
    "\n",
    "# Pivot the table to get models as rows and input files as columns\n",
    "speedup_table = speedup_df.pivot(index=\"model\", columns=\"input_file\", values=\"speedup\")\n",
    "\n",
    "# Print the formatted table using tabulate\n",
    "print(\"Speedup of Models Relative to Sequential Model:\")\n",
    "print(tabulate(speedup_table, headers='keys', tablefmt='pretty', showindex=True))\n"
   ]
  },
  {
   "cell_type": "markdown",
   "metadata": {},
   "source": [
    "### Scalability of mpi_omp models"
   ]
  },
  {
   "cell_type": "code",
   "execution_count": 36,
   "metadata": {},
   "outputs": [
    {
     "ename": "ValueError",
     "evalue": "invalid literal for int() with base 10: 'mpi'",
     "output_type": "error",
     "traceback": [
      "\u001b[0;31m---------------------------------------------------------------------------\u001b[0m",
      "\u001b[0;31mValueError\u001b[0m                                Traceback (most recent call last)",
      "Cell \u001b[0;32mIn[36], line 26\u001b[0m\n\u001b[1;32m     23\u001b[0m merged_data[\u001b[38;5;124m\"\u001b[39m\u001b[38;5;124mspeedup\u001b[39m\u001b[38;5;124m\"\u001b[39m] \u001b[38;5;241m=\u001b[39m merged_data[\u001b[38;5;124m\"\u001b[39m\u001b[38;5;124mexecution_time_seq\u001b[39m\u001b[38;5;124m\"\u001b[39m] \u001b[38;5;241m/\u001b[39m merged_data[\u001b[38;5;124m\"\u001b[39m\u001b[38;5;124mexecution_time_model\u001b[39m\u001b[38;5;124m\"\u001b[39m]\n\u001b[1;32m     25\u001b[0m \u001b[38;5;66;03m# Extract the number of processes and threads from the model name\u001b[39;00m\n\u001b[0;32m---> 26\u001b[0m num_processes, num_threads \u001b[38;5;241m=\u001b[39m \u001b[38;5;28mmap\u001b[39m(\u001b[38;5;28mint\u001b[39m, model\u001b[38;5;241m.\u001b[39msplit(\u001b[38;5;124m\"\u001b[39m\u001b[38;5;124m_\u001b[39m\u001b[38;5;124m\"\u001b[39m)[\u001b[38;5;241m-\u001b[39m\u001b[38;5;241m2\u001b[39m:])\n\u001b[1;32m     28\u001b[0m \u001b[38;5;66;03m# Add the model, number of processes, number of threads, and speedup data to the list\u001b[39;00m\n\u001b[1;32m     29\u001b[0m \u001b[38;5;28;01mfor\u001b[39;00m input_file \u001b[38;5;129;01min\u001b[39;00m merged_data[\u001b[38;5;124m\"\u001b[39m\u001b[38;5;124minput_file\u001b[39m\u001b[38;5;124m\"\u001b[39m]\u001b[38;5;241m.\u001b[39munique():\n",
      "\u001b[0;31mValueError\u001b[0m: invalid literal for int() with base 10: 'mpi'"
     ]
    }
   ],
   "source": [
    "import pandas as pd\n",
    "from tabulate import tabulate\n",
    "import matplotlib.pyplot as plt\n",
    "\n",
    "# Filter out mpi_openmp models\n",
    "mpi_openmp_data = result_df[result_df[\"model\"].str.startswith(\"mpi_openmp\")]\n",
    "\n",
    "# Extract sequential data for comparison\n",
    "sequential_data = result_df[result_df[\"model\"] == \"sequential\"]\n",
    "\n",
    "# Initialize an empty list to store speedup data\n",
    "speedup_data_mpi_openmp = []\n",
    "\n",
    "# Loop over all mpi_openmp models\n",
    "for model in mpi_openmp_data[\"model\"].unique():\n",
    "    # Filter data for the current mpi_openmp model\n",
    "    model_data = mpi_openmp_data[mpi_openmp_data[\"model\"] == model]\n",
    "    \n",
    "    # Merge the sequential data with the current mpi_openmp model data based on input file\n",
    "    merged_data = pd.merge(sequential_data, model_data, on=[\"input_file\"], suffixes=(\"_seq\", \"_model\"))\n",
    "    \n",
    "    # Calculate speedup\n",
    "    merged_data[\"speedup\"] = merged_data[\"execution_time_seq\"] / merged_data[\"execution_time_model\"]\n",
    "    \n",
    "    # Extract the number of processes and threads from the model name\n",
    "    num_processes, num_threads = map(int, model.split(\"_\")[-2:])\n",
    "    \n",
    "    # Add the model, number of processes, number of threads, and speedup data to the list\n",
    "    for input_file in merged_data[\"input_file\"].unique():\n",
    "        speedup_data_mpi_openmp.append({\n",
    "            \"input_file\": input_file,\n",
    "            \"num_processes\": num_processes,\n",
    "            \"num_threads\": num_threads,\n",
    "            \"model\": model,\n",
    "            \"speedup\": merged_data[merged_data[\"input_file\"] == input_file][\"speedup\"].mean()  # Take the mean speedup for each input file\n",
    "        })\n",
    "\n",
    "# Create a DataFrame from the speedup data\n",
    "speedup_df_mpi_openmp = pd.DataFrame(speedup_data_mpi_openmp)\n",
    "\n",
    "# Pivot the table to get models as rows and input files as columns\n",
    "speedup_table_mpi_openmp = speedup_df_mpi_openmp.pivot(index=\"model\", columns=\"input_file\", values=\"speedup\")\n",
    "\n",
    "# Print the formatted table using tabulate\n",
    "print(\"Speedup of mpi_openmp Models Relative to Sequential Model:\")\n",
    "print(tabulate(speedup_table_mpi_openmp, headers='keys', tablefmt='pretty', showindex=True))\n",
    "\n",
    "# Now analyze scalability based on the number of processes and threads\n",
    "\n",
    "# First, let's group by the number of processes and calculate the average speedup for each configuration\n",
    "process_scalability = speedup_df_mpi_openmp.groupby(\"num_processes\")[\"speedup\"].mean().reset_index()\n",
    "\n",
    "# Plot the scalability of mpi_openmp models as a function of the number of processes\n",
    "plt.figure(figsize=(10, 6))\n",
    "plt.plot(process_scalability[\"num_processes\"], process_scalability[\"speedup\"], marker=\"o\", label=\"Speedup vs Num Processes\")\n",
    "plt.xlabel(\"Number of Processes\")\n",
    "plt.ylabel(\"Speedup (Relative to Sequential)\")\n",
    "plt.title(\"Scalability of mpi_openmp Models (Speedup vs Num Processes)\")\n",
    "plt.grid(True)\n",
    "plt.tight_layout()\n",
    "plt.legend()\n",
    "plt.show()\n",
    "\n",
    "# Now, let's analyze scalability based on the number of threads\n",
    "thread_scalability = speedup_df_mpi_openmp.groupby(\"num_threads\")[\"speedup\"].mean().reset_index()\n",
    "\n",
    "# Plot the scalability of mpi_openmp models as a function of the number of threads\n",
    "plt.figure(figsize=(10, 6))\n",
    "plt.plot(thread_scalability[\"num_threads\"], thread_scalability[\"speedup\"], marker=\"o\", label=\"Speedup vs Num Threads\")\n",
    "plt.xlabel(\"Number of Threads\")\n",
    "plt.ylabel(\"Speedup (Relative to Sequential)\")\n",
    "plt.title(\"Scalability of mpi_openmp Models (Speedup vs Num Threads)\")\n",
    "plt.grid(True)\n",
    "plt.tight_layout()\n",
    "plt.legend()\n",
    "plt.show()\n"
   ]
  }
 ],
 "metadata": {
  "kernelspec": {
   "display_name": "pyenv",
   "language": "python",
   "name": "python3"
  },
  "language_info": {
   "codemirror_mode": {
    "name": "ipython",
    "version": 3
   },
   "file_extension": ".py",
   "mimetype": "text/x-python",
   "name": "python",
   "nbconvert_exporter": "python",
   "pygments_lexer": "ipython3",
   "version": "3.13.1"
  }
 },
 "nbformat": 4,
 "nbformat_minor": 2
}
